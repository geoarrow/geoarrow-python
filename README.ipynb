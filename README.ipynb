{
 "cells": [
  {
   "attachments": {},
   "cell_type": "markdown",
   "metadata": {},
   "source": [
    "# geoarrow for Python\n",
    "\n",
    "The geoarrow Python packages provide bindings to the geoarrow-c implementation of the [GeoArrow specification](https://github.com/geoarrow/geoarrow) and integrations with [pyarrow](https://arrow.apache.org/docs/python) and [pandas](https://pandas.pydata.org/). The geoarrow Python bindings provide input/output to/from Arrow-friendly formats (e.g., Parquet, Arrow Stream, Arrow File) and general-purpose coordinate shuffling tools among GeoArrow, WKT, and WKB encodings. \n",
    "\n",
    "## Installation\n",
    "\n",
    "Python bindings for geoarrow are not yet available on PyPI. You can install via URL (requires a C++ compiler):\n",
    "\n",
    "```bash\n",
    "python -m pip install \"https://github.com/geoarrow/geoarrow-c/archive/refs/heads/main.zip#egg=geoarrow-c&subdirectory=python/geoarrow-c\"\n",
    "python -m pip install \"https://github.com/geoarrow/geoarrow-c/archive/refs/heads/main.zip#egg=geoarrow-pyarrow&subdirectory=python/geoarrow-pyarrow\"\n",
    "python -m pip install \"https://github.com/geoarrow/geoarrow-c/archive/refs/heads/main.zip#egg=geoarrow-pandas&subdirectory=python/geoarrow-pandas\"\n",
    "```\n",
    "\n",
    "If you can import the namespace, you're good to go! The most user-friendly interface to geoarrow currently depends on `pyarrow`, which you can import with:"
   ]
  },
  {
   "cell_type": "code",
   "execution_count": 1,
   "metadata": {},
   "outputs": [],
   "source": [
    "import geoarrow.pyarrow as ga"
   ]
  },
  {
   "attachments": {},
   "cell_type": "markdown",
   "metadata": {},
   "source": [
    "## Examples\n",
    "\n",
    "You can create geoarrow-encoded arrays with `as_geoarrow()`:"
   ]
  },
  {
   "cell_type": "code",
   "execution_count": 2,
   "metadata": {},
   "outputs": [
    {
     "data": {
      "text/plain": [
       "PointArray:PointType(geoarrow.point)[1]\n",
       "<POINT (0 1)>"
      ]
     },
     "execution_count": 2,
     "metadata": {},
     "output_type": "execute_result"
    }
   ],
   "source": [
    "ga.as_geoarrow([\"POINT (0 1)\"])"
   ]
  },
  {
   "attachments": {},
   "cell_type": "markdown",
   "metadata": {},
   "source": [
    "This will work with:\n",
    "\n",
    "- An existing array created by geoarrow\n",
    "- A `geopandas.GeoSeries`\n",
    "- A `pyarrow.Array` or `pyarrow.ChunkedArray` (geoarrow text interpreted as well-known text; binary interpreted as well-known binary)\n",
    "- Anything that `pyarrow.array()` will convert to a text or binary array\n",
    "\n",
    "If there is no common geometry type among elements of the input, `as_geoarrow()` will fall back to well-known binary encoding. To explicitly convert to well-known text or binary, use `as_wkt()` or `as_wkb()`.\n",
    "\n",
    "Alternatively, you can construct GeoArrow arrays directly from a series of buffers as described in the specification:"
   ]
  },
  {
   "cell_type": "code",
   "execution_count": 3,
   "metadata": {},
   "outputs": [
    {
     "data": {
      "text/plain": [
       "PointArray:PointType(geoarrow.point)[3]\n",
       "<POINT (1 3)>\n",
       "<POINT (2 4)>\n",
       "<POINT (3 5)>"
      ]
     },
     "execution_count": 3,
     "metadata": {},
     "output_type": "execute_result"
    }
   ],
   "source": [
    "import numpy as np\n",
    "\n",
    "ga.point().from_geobuffers(\n",
    "    None, \n",
    "    np.array([1.0, 2.0, 3.0]),\n",
    "    np.array([3.0, 4.0, 5.0])\n",
    ")"
   ]
  },
  {
   "cell_type": "code",
   "execution_count": 4,
   "metadata": {},
   "outputs": [
    {
     "data": {
      "text/plain": [
       "PointArray:PointType(interleaved geoarrow.point)[3]\n",
       "<POINT (1 2)>\n",
       "<POINT (3 4)>\n",
       "<POINT (5 6)>"
      ]
     },
     "execution_count": 4,
     "metadata": {},
     "output_type": "execute_result"
    }
   ],
   "source": [
    "ga.point().with_coord_type(ga.CoordType.INTERLEAVED).from_geobuffers(\n",
    "    None,\n",
    "    np.array([1.0, 2.0, 3.0, 4.0, 5.0, 6.0])\n",
    ")"
   ]
  },
  {
   "attachments": {},
   "cell_type": "markdown",
   "metadata": {},
   "source": [
    "Importing `geoarrow.pyarrow` will register the geoarrow extension types with pyarrow such that you can read/write Arrow streams, Arrow files, and Parquet that contains Geoarrow extension types. A number of these files are available from the [geoarrow-data](https://github.com/geoarrow/geoarrow-data) repository."
   ]
  },
  {
   "cell_type": "code",
   "execution_count": 5,
   "metadata": {},
   "outputs": [
    {
     "data": {
      "text/plain": [
       "OBJECTID: int64\n",
       "FEAT_CODE: string\n",
       "LINE_CLASS: int32\n",
       "MISCID_1: string\n",
       "MISCNAME_1: string\n",
       "MISCID_2: string\n",
       "MISCNAME_2: string\n",
       "HID: string\n",
       "MISCID_3: string\n",
       "MISCNAME_3: string\n",
       "MISCID_4: string\n",
       "MISCNAME_4: string\n",
       "SHAPE_LEN: double\n",
       "geometry: extension<geoarrow.multilinestring<MultiLinestringType>>\n",
       "-- schema metadata --\n",
       "geo: '\n",
       "    {\n",
       "    \"columns\": {\n",
       "        \"geometry\": {\n",
       "        \"encoding\": \"' + 2919"
      ]
     },
     "execution_count": 5,
     "metadata": {},
     "output_type": "execute_result"
    }
   ],
   "source": [
    "import urllib.request\n",
    "import pyarrow.parquet as pq\n",
    "\n",
    "url = \"https://github.com/geoarrow/geoarrow-data/releases/download/latest-dev/ns-water-basin_line.parquet\"\n",
    "local_filename, headers = urllib.request.urlretrieve(url)\n",
    "pq.read_table(local_filename).schema"
   ]
  },
  {
   "cell_type": "code",
   "execution_count": 6,
   "metadata": {},
   "outputs": [
    {
     "data": {
      "text/plain": [
       "MultiLinestringArray:MultiLinestringType(geoarrow.multilinestring <{\"$schema\":\"https://proj.org/schem...>)[255]\n",
       "<MULTILINESTRING ((648686.0197000001 5099181.984099999, 648626.018...>\n",
       "<MULTILINESTRING ((687687.8200000003 5117029.181600001, 686766.020...>\n",
       "<MULTILINESTRING ((631355.5193999996 5122892.2849, 631364.34339999...>\n",
       "<MULTILINESTRING ((665166.0199999996 5138641.9825, 665146.01999999...>\n",
       "<MULTILINESTRING ((673606.0199999996 5162961.9823, 673606.01999999...>\n",
       "...245 values...\n",
       "<MULTILINESTRING ((681672.6200000001 5078601.5823, 681866.01999999...>\n",
       "<MULTILINESTRING ((414867.91700000037 5093040.8807, 414793.8169999...>\n",
       "<MULTILINESTRING ((414867.91700000037 5093040.8807, 414829.7170000...>\n",
       "<MULTILINESTRING ((414867.91700000037 5093040.8807, 414937.2170000...>\n",
       "<MULTILINESTRING ((648686.0197000001 5099181.984099999, 648866.019...>"
      ]
     },
     "execution_count": 6,
     "metadata": {},
     "output_type": "execute_result"
    }
   ],
   "source": [
    "import geopandas\n",
    "\n",
    "url = \"https://github.com/geoarrow/geoarrow-data/releases/download/latest-dev/ns-water-basin_line.gpkg\"\n",
    "df = geopandas.read_file(url)\n",
    "array = ga.as_geoarrow(df.geometry)\n",
    "array"
   ]
  },
  {
   "attachments": {},
   "cell_type": "markdown",
   "metadata": {},
   "source": [
    "You can convert back to geopandas using `as_wkb()` and `GeoSeries.from_wkb()`:"
   ]
  },
  {
   "cell_type": "code",
   "execution_count": 7,
   "metadata": {},
   "outputs": [
    {
     "data": {
      "text/plain": [
       "0      MULTILINESTRING ((648686.020 5099181.984, 6486...\n",
       "1      MULTILINESTRING ((687687.820 5117029.182, 6867...\n",
       "2      MULTILINESTRING ((631355.519 5122892.285, 6313...\n",
       "3      MULTILINESTRING ((665166.020 5138641.982, 6651...\n",
       "4      MULTILINESTRING ((673606.020 5162961.982, 6736...\n",
       "                             ...                        \n",
       "250    MULTILINESTRING ((681672.620 5078601.582, 6818...\n",
       "251    MULTILINESTRING ((414867.917 5093040.881, 4147...\n",
       "252    MULTILINESTRING ((414867.917 5093040.881, 4148...\n",
       "253    MULTILINESTRING ((414867.917 5093040.881, 4149...\n",
       "254    MULTILINESTRING ((648686.020 5099181.984, 6488...\n",
       "Length: 255, dtype: geometry"
      ]
     },
     "execution_count": 7,
     "metadata": {},
     "output_type": "execute_result"
    }
   ],
   "source": [
    "geopandas.GeoSeries.from_wkb(ga.as_wkb(array))"
   ]
  },
  {
   "attachments": {},
   "cell_type": "markdown",
   "metadata": {},
   "source": [
    "If you'd like to do some of your own processing, you can access buffers as numpy arrays\n",
    "using `.geobuffers()`:"
   ]
  },
  {
   "cell_type": "code",
   "execution_count": 8,
   "metadata": {},
   "outputs": [
    {
     "data": {
      "text/plain": [
       "[None,\n",
       " array([  0,   1,   2,   3,   4,   5,   6,   7,   8,   9,  10,  11,  12,\n",
       "         13,  14,  15,  16,  17,  18,  19,  20,  21,  22,  23,  24,  25,\n",
       "         26,  27,  28,  29,  30,  31,  32,  33,  34,  35,  36,  37,  38,\n",
       "         39,  40,  41,  42,  43,  44,  45,  46,  47,  48,  49,  50,  51,\n",
       "         52,  53,  54,  55,  56,  57,  58,  59,  60,  61,  62,  63,  64,\n",
       "         65,  66,  67,  68,  69,  70,  71,  72,  73,  74,  75,  76,  77,\n",
       "         78,  79,  80,  81,  82,  83,  84,  85,  86,  87,  88,  89,  90,\n",
       "         91,  92,  93,  94,  95,  96,  97,  98,  99, 100, 101, 102, 103,\n",
       "        104, 105, 106, 107, 108, 109, 110, 112, 113, 114, 115, 116, 117,\n",
       "        118, 119, 120, 121, 122, 123, 124, 125, 126, 127, 128, 129, 130,\n",
       "        131, 132, 133, 134, 135, 136, 137, 138, 139, 140, 141, 142, 143,\n",
       "        144, 145, 146, 147, 148, 149, 150, 151, 152, 153, 154, 155, 156,\n",
       "        157, 158, 159, 160, 161, 162, 163, 164, 165, 166, 167, 168, 169,\n",
       "        170, 171, 172, 173, 174, 175, 176, 177, 178, 179, 180, 181, 182,\n",
       "        183, 184, 185, 186, 187, 188, 189, 190, 191, 192, 193, 194, 195,\n",
       "        196, 197, 198, 199, 200, 201, 202, 203, 204, 205, 206, 207, 208,\n",
       "        209, 210, 211, 212, 213, 214, 215, 216, 217, 218, 219, 220, 221,\n",
       "        222, 223, 224, 225, 226, 227, 228, 229, 230, 231, 232, 233, 234,\n",
       "        235, 236, 237, 238, 239, 240, 241, 242, 243, 244, 245, 246, 247,\n",
       "        248, 249, 250, 251, 252, 253, 254, 255, 256], dtype=int32),\n",
       " array([    0,   405,  1095,  1728,  2791,  3242,  3952,  4025,  4709,\n",
       "         6366,  6368,  6373,  6375,  6377,  6381,  6384,  6386,  6395,\n",
       "         6397,  6399,  6401,  6403,  6409,  6412,  6414,  6418,  6420,\n",
       "         6423,  6426,  6428,  6432,  6445,  6448,  6450,  6457,  6462,\n",
       "         6464,  6466,  6476,  6479,  6482,  6484,  6486,  6493,  6501,\n",
       "         6503,  6506,  6509,  6511,  6513,  6515,  6517,  6519,  6521,\n",
       "         6523,  6525,  6527,  6529,  6531,  6534,  6653,  6943,  7047,\n",
       "         7086,  7131,  7140,  7220,  7230,  7233,  7285,  7420,  7450,\n",
       "         7460,  7485,  7492,  7494,  7497,  7499,  7501,  7504,  7506,\n",
       "         7568,  7629,  7633,  7635,  7689,  7778,  7780,  7783,  7786,\n",
       "         7788,  7792,  7795,  7798,  7800,  7805,  8366,  8368,  8372,\n",
       "         8376,  8380,  8382,  8385,  8388,  8392,  8395,  8398,  8400,\n",
       "         8402,  8404,  8406,  8408,  8411,  8413,  8416,  8420,  8435,\n",
       "         8437,  8440,  8443,  8446,  8453,  8456,  8458,  8460,  8463,\n",
       "         8465,  8468,  8475,  8478,  8488,  8490,  8493,  8495,  8498,\n",
       "         8502,  8505,  8508,  8510,  8513,  8515,  8517,  8529,  8531,\n",
       "         8534,  8539,  8546,  8549,  8555,  8564,  8566,  8569,  8571,\n",
       "         8855,  9156,  9957, 10118, 10179, 10380, 10561, 10862, 11111,\n",
       "        11212, 11352, 11765, 11848, 11949, 12043, 12261, 12742, 12943,\n",
       "        13244, 13285, 13306, 13527, 13548, 13609, 13650, 13771, 13823,\n",
       "        13994, 14407, 14982, 15631, 16161, 16655, 17779, 17879, 17918,\n",
       "        18382, 18783, 20028, 21223, 21344, 21492, 21601, 21686, 21952,\n",
       "        22278, 22756, 23118, 23391, 24186, 24379, 24655, 25164, 25486,\n",
       "        26279, 26741, 27295, 28306, 28331, 28844, 29429, 30233, 31317,\n",
       "        31472, 33015, 33061, 33245, 33415, 33715, 33866, 34589, 34834,\n",
       "        35317, 35474, 35595, 35997, 36210, 36770, 37053, 37074, 37434,\n",
       "        37874, 38724, 39846, 40443, 41369, 42169, 43122, 43289, 43539,\n",
       "        44133, 44771, 44781, 44890, 46058, 46534, 46988, 47466, 48053,\n",
       "        48712, 49007, 49221, 49275, 49494], dtype=int32),\n",
       " array([648686.0197, 648626.0187, 648586.0197, ..., 658335.0659,\n",
       "        658341.5039, 658351.4199]),\n",
       " array([5099181.9841, 5099181.9841, 5099161.9831, ..., 5099975.8904,\n",
       "        5099981.8684, 5099991.9824])]"
      ]
     },
     "execution_count": 8,
     "metadata": {},
     "output_type": "execute_result"
    }
   ],
   "source": [
    "array.geobuffers()"
   ]
  },
  {
   "attachments": {},
   "cell_type": "markdown",
   "metadata": {},
   "source": [
    "You can do the inverse operation (from raw buffers to GeoPandas) using `.from_geobuffers()`, and `.as_wkb()`:"
   ]
  },
  {
   "cell_type": "code",
   "execution_count": 9,
   "metadata": {},
   "outputs": [
    {
     "data": {
      "text/plain": [
       "MultiLinestringArray:MultiLinestringType(geoarrow.multilinestring <{\"$schema\":\"https://proj.org/schem...>)[255]\n",
       "<MULTILINESTRING ((648686.0197000001 5099181.984099999, 648626.018...>\n",
       "<MULTILINESTRING ((687687.8200000003 5117029.181600001, 686766.020...>\n",
       "<MULTILINESTRING ((631355.5193999996 5122892.2849, 631364.34339999...>\n",
       "<MULTILINESTRING ((665166.0199999996 5138641.9825, 665146.01999999...>\n",
       "<MULTILINESTRING ((673606.0199999996 5162961.9823, 673606.01999999...>\n",
       "...245 values...\n",
       "<MULTILINESTRING ((681672.6200000001 5078601.5823, 681866.01999999...>\n",
       "<MULTILINESTRING ((414867.91700000037 5093040.8807, 414793.8169999...>\n",
       "<MULTILINESTRING ((414867.91700000037 5093040.8807, 414829.7170000...>\n",
       "<MULTILINESTRING ((414867.91700000037 5093040.8807, 414937.2170000...>\n",
       "<MULTILINESTRING ((648686.0197000001 5099181.984099999, 648866.019...>"
      ]
     },
     "execution_count": 9,
     "metadata": {},
     "output_type": "execute_result"
    }
   ],
   "source": [
    "ga_type = ga.multilinestring() \\\n",
    "    .with_dimensions(ga.Dimensions.XY) \\\n",
    "    .with_crs(array.type.crs)\n",
    "geoarrow_array2 = ga_type.from_geobuffers(*array.geobuffers())\n",
    "geoarrow_array2"
   ]
  },
  {
   "attachments": {},
   "cell_type": "markdown",
   "metadata": {},
   "source": [
    "## Building\n",
    "\n",
    "Python bindings for nanoarrow are managed with [setuptools](https://setuptools.pypa.io/en/latest/index.html).\n",
    "This means you can build the project using:\n",
    "\n",
    "```shell\n",
    "git clone https://github.com/geoarrow/geoarrow-c.git\n",
    "cd python\n",
    "pip install -e geoarrow-c/ goearrow-pyarrow/ geoarrow-pandas/\n",
    "```\n",
    "\n",
    "Tests use [pytest](https://docs.pytest.org/):\n",
    "\n",
    "```shell\n",
    "# Install dependencies\n",
    "for d in geoarrow-c geoarrow-pyarrow geoarrow-pandas; do\n",
    "    cd $d && pip install -e \".[test]\" && cd ..\n",
    "done\n",
    "\n",
    "# Run tests\n",
    "for d in geoarrow-c geoarrow-pyarrow geoarrow-pandas; do\n",
    "    cd $d && pytest && cd ..\n",
    "done\n",
    "```"
   ]
  }
 ],
 "metadata": {
  "kernelspec": {
   "display_name": "Python 3",
   "language": "python",
   "name": "python3"
  },
  "language_info": {
   "codemirror_mode": {
    "name": "ipython",
    "version": 3
   },
   "file_extension": ".py",
   "mimetype": "text/x-python",
   "name": "python",
   "nbconvert_exporter": "python",
   "pygments_lexer": "ipython3",
   "version": "3.11.4"
  },
  "orig_nbformat": 4
 },
 "nbformat": 4,
 "nbformat_minor": 2
}
